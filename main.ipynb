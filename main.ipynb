{
 "cells": [
  {
   "cell_type": "markdown",
   "metadata": {},
   "source": [
    "# Imports"
   ]
  },
  {
   "cell_type": "code",
   "execution_count": 142,
   "metadata": {},
   "outputs": [],
   "source": [
    "import json\n",
    "import requests\n",
    "from urllib.request import Request, urlopen\n",
    "from bs4 import BeautifulSoup\n",
    "\n",
    "import numpy as np\n",
    "import pandas as pd\n",
    "\n",
    "from sklearn.preprocessing import OneHotEncoder\n",
    "\n",
    "import seaborn as sns\n",
    "import matplotlib.pyplot as plt\n",
    "import matplotlib\n",
    "%matplotlib inline"
   ]
  },
  {
   "cell_type": "markdown",
   "metadata": {},
   "source": [
    "# Import dataframes"
   ]
  },
  {
   "cell_type": "markdown",
   "metadata": {},
   "source": [
    "## Heroes id"
   ]
  },
  {
   "cell_type": "code",
   "execution_count": 2,
   "metadata": {
    "scrolled": false
   },
   "outputs": [],
   "source": [
    "f = open('data/hero_id.json',)\n",
    "data = json.load(f)['heroes']\n",
    "heroes = pd.read_json(json.dumps(data))\n",
    "heroes.drop(['name'],axis=1,inplace=True)\n",
    "heroes.set_index('id',inplace=True)\n",
    "hero_id_dict = dict(heroes['localized_name'].to_dict())\n",
    "items = hero_id_dict.items()\n",
    "names = sorted(items)\n",
    "hero_id_dict = dict(names)"
   ]
  },
  {
   "cell_type": "markdown",
   "metadata": {},
   "source": [
    "## Matches id"
   ]
  },
  {
   "cell_type": "code",
   "execution_count": 143,
   "metadata": {},
   "outputs": [
    {
     "data": {
      "text/html": [
       "<div>\n",
       "<style scoped>\n",
       "    .dataframe tbody tr th:only-of-type {\n",
       "        vertical-align: middle;\n",
       "    }\n",
       "\n",
       "    .dataframe tbody tr th {\n",
       "        vertical-align: top;\n",
       "    }\n",
       "\n",
       "    .dataframe thead th {\n",
       "        text-align: right;\n",
       "    }\n",
       "</style>\n",
       "<table border=\"1\" class=\"dataframe\">\n",
       "  <thead>\n",
       "    <tr style=\"text-align: right;\">\n",
       "      <th></th>\n",
       "      <th>rad_1</th>\n",
       "      <th>rad_2</th>\n",
       "      <th>rad_3</th>\n",
       "      <th>rad_4</th>\n",
       "      <th>rad_5</th>\n",
       "      <th>dire_1</th>\n",
       "      <th>dire_2</th>\n",
       "      <th>dire_3</th>\n",
       "      <th>dire_4</th>\n",
       "      <th>dire_5</th>\n",
       "      <th>win</th>\n",
       "    </tr>\n",
       "  </thead>\n",
       "  <tbody>\n",
       "    <tr>\n",
       "      <th>0</th>\n",
       "      <td>4</td>\n",
       "      <td>61</td>\n",
       "      <td>52</td>\n",
       "      <td>102</td>\n",
       "      <td>110</td>\n",
       "      <td>126</td>\n",
       "      <td>79</td>\n",
       "      <td>38</td>\n",
       "      <td>1</td>\n",
       "      <td>9</td>\n",
       "      <td>0</td>\n",
       "    </tr>\n",
       "    <tr>\n",
       "      <th>1</th>\n",
       "      <td>57</td>\n",
       "      <td>9</td>\n",
       "      <td>106</td>\n",
       "      <td>18</td>\n",
       "      <td>38</td>\n",
       "      <td>112</td>\n",
       "      <td>91</td>\n",
       "      <td>81</td>\n",
       "      <td>52</td>\n",
       "      <td>100</td>\n",
       "      <td>0</td>\n",
       "    </tr>\n",
       "    <tr>\n",
       "      <th>2</th>\n",
       "      <td>44</td>\n",
       "      <td>97</td>\n",
       "      <td>104</td>\n",
       "      <td>25</td>\n",
       "      <td>85</td>\n",
       "      <td>126</td>\n",
       "      <td>10</td>\n",
       "      <td>92</td>\n",
       "      <td>129</td>\n",
       "      <td>53</td>\n",
       "      <td>0</td>\n",
       "    </tr>\n",
       "    <tr>\n",
       "      <th>3</th>\n",
       "      <td>4</td>\n",
       "      <td>18</td>\n",
       "      <td>57</td>\n",
       "      <td>121</td>\n",
       "      <td>22</td>\n",
       "      <td>91</td>\n",
       "      <td>6</td>\n",
       "      <td>107</td>\n",
       "      <td>10</td>\n",
       "      <td>28</td>\n",
       "      <td>1</td>\n",
       "    </tr>\n",
       "    <tr>\n",
       "      <th>4</th>\n",
       "      <td>85</td>\n",
       "      <td>61</td>\n",
       "      <td>51</td>\n",
       "      <td>70</td>\n",
       "      <td>110</td>\n",
       "      <td>5</td>\n",
       "      <td>13</td>\n",
       "      <td>19</td>\n",
       "      <td>109</td>\n",
       "      <td>33</td>\n",
       "      <td>0</td>\n",
       "    </tr>\n",
       "    <tr>\n",
       "      <th>...</th>\n",
       "      <td>...</td>\n",
       "      <td>...</td>\n",
       "      <td>...</td>\n",
       "      <td>...</td>\n",
       "      <td>...</td>\n",
       "      <td>...</td>\n",
       "      <td>...</td>\n",
       "      <td>...</td>\n",
       "      <td>...</td>\n",
       "      <td>...</td>\n",
       "      <td>...</td>\n",
       "    </tr>\n",
       "    <tr>\n",
       "      <th>4411</th>\n",
       "      <td>95</td>\n",
       "      <td>97</td>\n",
       "      <td>120</td>\n",
       "      <td>27</td>\n",
       "      <td>110</td>\n",
       "      <td>8</td>\n",
       "      <td>69</td>\n",
       "      <td>129</td>\n",
       "      <td>26</td>\n",
       "      <td>58</td>\n",
       "      <td>0</td>\n",
       "    </tr>\n",
       "    <tr>\n",
       "      <th>4412</th>\n",
       "      <td>39</td>\n",
       "      <td>86</td>\n",
       "      <td>129</td>\n",
       "      <td>63</td>\n",
       "      <td>100</td>\n",
       "      <td>58</td>\n",
       "      <td>114</td>\n",
       "      <td>11</td>\n",
       "      <td>110</td>\n",
       "      <td>20</td>\n",
       "      <td>0</td>\n",
       "    </tr>\n",
       "    <tr>\n",
       "      <th>4413</th>\n",
       "      <td>42</td>\n",
       "      <td>23</td>\n",
       "      <td>129</td>\n",
       "      <td>110</td>\n",
       "      <td>58</td>\n",
       "      <td>95</td>\n",
       "      <td>43</td>\n",
       "      <td>13</td>\n",
       "      <td>100</td>\n",
       "      <td>85</td>\n",
       "      <td>1</td>\n",
       "    </tr>\n",
       "    <tr>\n",
       "      <th>4414</th>\n",
       "      <td>5</td>\n",
       "      <td>114</td>\n",
       "      <td>126</td>\n",
       "      <td>110</td>\n",
       "      <td>16</td>\n",
       "      <td>100</td>\n",
       "      <td>25</td>\n",
       "      <td>96</td>\n",
       "      <td>9</td>\n",
       "      <td>91</td>\n",
       "      <td>0</td>\n",
       "    </tr>\n",
       "    <tr>\n",
       "      <th>4415</th>\n",
       "      <td>100</td>\n",
       "      <td>111</td>\n",
       "      <td>114</td>\n",
       "      <td>126</td>\n",
       "      <td>33</td>\n",
       "      <td>119</td>\n",
       "      <td>25</td>\n",
       "      <td>47</td>\n",
       "      <td>91</td>\n",
       "      <td>51</td>\n",
       "      <td>0</td>\n",
       "    </tr>\n",
       "  </tbody>\n",
       "</table>\n",
       "<p>4416 rows × 11 columns</p>\n",
       "</div>"
      ],
      "text/plain": [
       "      rad_1  rad_2  rad_3  rad_4  rad_5  dire_1  dire_2  dire_3  dire_4  \\\n",
       "0         4     61     52    102    110     126      79      38       1   \n",
       "1        57      9    106     18     38     112      91      81      52   \n",
       "2        44     97    104     25     85     126      10      92     129   \n",
       "3         4     18     57    121     22      91       6     107      10   \n",
       "4        85     61     51     70    110       5      13      19     109   \n",
       "...     ...    ...    ...    ...    ...     ...     ...     ...     ...   \n",
       "4411     95     97    120     27    110       8      69     129      26   \n",
       "4412     39     86    129     63    100      58     114      11     110   \n",
       "4413     42     23    129    110     58      95      43      13     100   \n",
       "4414      5    114    126    110     16     100      25      96       9   \n",
       "4415    100    111    114    126     33     119      25      47      91   \n",
       "\n",
       "      dire_5  win  \n",
       "0          9    0  \n",
       "1        100    0  \n",
       "2         53    0  \n",
       "3         28    1  \n",
       "4         33    0  \n",
       "...      ...  ...  \n",
       "4411      58    0  \n",
       "4412      20    0  \n",
       "4413      85    1  \n",
       "4414      91    0  \n",
       "4415      51    0  \n",
       "\n",
       "[4416 rows x 11 columns]"
      ]
     },
     "execution_count": 143,
     "metadata": {},
     "output_type": "execute_result"
    }
   ],
   "source": [
    "#get match draft\n",
    "matches = pd.read_csv('data/match.csv').drop(['leaguename','account_id'],axis=1)\n",
    "match_ids = list(matches['match_id'].unique())\n",
    "\n",
    "hero_ids = []\n",
    "wins = []\n",
    "\n",
    "for match_id in match_ids:\n",
    "    hero_ids_match = list(matches[matches['match_id']==match_id]['hero_id'].values)\n",
    "    hero_ids.append(hero_ids_match)\n",
    "    win = int(matches[matches['match_id']==match_id]['win'].values[-1])\n",
    "    wins.append(win)\n",
    "\n",
    "hero_ids = np.array(hero_ids).reshape((len(hero_ids),10))\n",
    "\n",
    "matches = pd.DataFrame(columns= 'rad_1 rad_2 rad_3 rad_4 rad_5 dire_1 dire_2 dire_3 dire_4 dire_5 win'.split())\n",
    "matches['win'] = wins\n",
    "matches[matches.columns[:10]] = hero_ids\n",
    "\n",
    "# def id2name(hero_id):\n",
    "#     try:\n",
    "#         return hero_id_dict[hero_id]\n",
    "         \n",
    "#     except:\n",
    "#         return None\n",
    "\n",
    "# for i in range(10):\n",
    "#     matches[matches.columns[i]] = matches[matches.columns[i]].apply(lambda x: id2name(x))\n",
    "    \n",
    "#get banned picks\n",
    "# bans = []\n",
    "# for match_id in match_ids:\n",
    "\n",
    "#     url = f'https://api.steampowered.com/IDOTA2Match_570/GetMatchDetails/V001/?match_id={match_id}&key=8DFCD225B2187AFFC656BC1369FE7295'\n",
    "#     response = urlopen(url)\n",
    "#     data = json.loads(response.read())\n",
    "#     try:\n",
    "#         data = data['result']['picks_bans']\n",
    "#         bans_df = pd.read_json(json.dumps(data))\n",
    "#         bans_match = bans_df[bans_df['is_pick']==False]['hero_id'].values\n",
    "#         bans.append(bans_match)\n",
    "#     except:\n",
    "#         bans.append([None for i in range(14)])\n",
    "    \n",
    "# bans\n",
    "\n",
    "matches"
   ]
  },
  {
   "cell_type": "markdown",
   "metadata": {},
   "source": [
    "# Analysing data"
   ]
  },
  {
   "cell_type": "markdown",
   "metadata": {},
   "source": [
    "## Most picked heroes"
   ]
  },
  {
   "cell_type": "code",
   "execution_count": 101,
   "metadata": {},
   "outputs": [
    {
     "data": {
      "image/png": "[encoded data removed]",
      "text/plain": [
       "<Figure size 1332x756 with 1 Axes>"
      ]
     },
     "metadata": {
      "needs_background": "light"
     },
     "output_type": "display_data"
    }
   ],
   "source": [
    "picks_win = matches[matches['win']==1].iloc[:,:10].values\n",
    "unique_win, counts_win = np.unique(picks_win, return_counts=True)\n",
    "picks_win_count = dict(zip(unique_win, counts_win))\n",
    "picks_win_count = dict(sorted(picks_win_count.items(), key=lambda item: item[1], reverse=True))\n",
    "\n",
    "top = 10\n",
    "\n",
    "heroes_win = list(picks_win_count.keys())[:top]\n",
    "count_win = np.array(list(picks_win_count.values())[:top])\n",
    "count_win = count_win/count_win.sum()*100\n",
    "\n",
    "picks_lose = matches[matches['win']==0].iloc[:,:10].values\n",
    "unique_lose, counts_lose = np.unique(picks_lose, return_counts=True)\n",
    "picks_lose_count = dict(zip(unique_lose, counts_lose))\n",
    "picks_lose_count = dict(sorted(picks_lose_count.items(), key=lambda item: item[1], reverse=True))\n",
    "heroes_lose = list(picks_lose_count.keys())[:top]\n",
    "count_lose = np.array(list(picks_lose_count.values())[:top])\n",
    "count_lose = count_lose/count_lose.sum()*100\n",
    "\n",
    "labels = [hero_id_dict[hero] for hero in heroes_win]\n",
    "\n",
    "x = np.arange(top)  # the label locations\n",
    "width = 0.35  # the width of the bars\n",
    "\n",
    "fig, ax = plt.subplots()\n",
    "fig.set_size_inches(18.5, 10.5)\n",
    "rects1 = ax.bar(x - width/2, count_win, width, label='Win')\n",
    "rects2 = ax.bar(x + width/2, count_lose, width, label='Lose')\n",
    "\n",
    "ax.set_ylabel('% pick')\n",
    "ax.set_title('% pick of each hero sorted by win')\n",
    "ax.set_xticks(x)\n",
    "ax.set_xticklabels(labels)\n",
    "ax.legend()\n",
    "ax.set_ylim(ymin=7.5,ymax=14);"
   ]
  },
  {
   "cell_type": "markdown",
   "metadata": {},
   "source": [
    "## Top 10 win rates by hero"
   ]
  },
  {
   "cell_type": "code",
   "execution_count": 99,
   "metadata": {},
   "outputs": [
    {
     "data": {
      "image/png": "[encoded data removed]",
      "text/plain": [
       "<Figure size 720x360 with 1 Axes>"
      ]
     },
     "metadata": {
      "needs_background": "light"
     },
     "output_type": "display_data"
    }
   ],
   "source": [
    "ids = list(hero_id_dict.keys())\n",
    "winrates = []\n",
    "\n",
    "for idx in ids:\n",
    "    wins_hero = 0.0\n",
    "    total_hero = 0.0\n",
    "    for i in range(10):\n",
    "        wins_hero += matches[matches[matches.columns[i]]==idx]['win'].sum()\n",
    "        total_hero += len(matches[matches[matches.columns[i]]==idx]['win'])\n",
    "    winrate = wins_hero/total_hero\n",
    "    winrates.append(winrate)\n",
    "    \n",
    "winrate_dict = dict(zip(ids,winrates))\n",
    "winrate_dict = dict(sorted(winrate_dict.items(), key=lambda item: item[1], reverse=True))\n",
    "heroes_winrate = list(winrate_dict.keys())[:top]\n",
    "winrates = np.array(list(winrate_dict.values())[:top])*100\n",
    "\n",
    "labels = [hero_id_dict[hero] for hero in heroes_winrate]\n",
    "\n",
    "x = np.arange(top)  # the label locations\n",
    "width = 0.4  # the width of the bars\n",
    "\n",
    "fig, ax = plt.subplots()\n",
    "fig.set_size_inches(10, 5)\n",
    "rects = ax.bar(x, winrates, width)\n",
    "\n",
    "ax.set_ylabel('% winrate')\n",
    "ax.set_title(f'top {top} winrates by hero')\n",
    "ax.set_xticks(x)\n",
    "ax.set_xticklabels(labels, rotation = 45)\n",
    "ax.set_ylim(ymin=50,ymax=57);"
   ]
  },
  {
   "cell_type": "markdown",
   "metadata": {},
   "source": [
    "## Graphs Visualization"
   ]
  },
  {
   "cell_type": "code",
   "execution_count": null,
   "metadata": {},
   "outputs": [],
   "source": []
  },
  {
   "cell_type": "markdown",
   "metadata": {},
   "source": [
    "# Machine Learning - https://arxiv.org/pdf/1806.10130.pdf"
   ]
  },
  {
   "cell_type": "markdown",
   "metadata": {},
   "source": [
    "## Prepare dataframe"
   ]
  },
  {
   "cell_type": "code",
   "execution_count": 158,
   "metadata": {},
   "outputs": [
    {
     "data": {
      "text/plain": [
       "<4416x595 sparse matrix of type '<class 'numpy.float64'>'\n",
       "\twith 22080 stored elements in Compressed Sparse Row format>"
      ]
     },
     "execution_count": 158,
     "metadata": {},
     "output_type": "execute_result"
    }
   ],
   "source": [
    "X = []\n",
    "Y = []\n",
    "for i in range(len(matches)):\n",
    "    if matches.iloc[i,-1]:\n",
    "        X.append(list(matches.iloc[i,:5].values))\n",
    "        Y.append(list(matches.iloc[i,5:10].values))\n",
    "    else:\n",
    "        Y.append(list(matches.iloc[i,:5].values))\n",
    "        X.append(list(matches.iloc[i,5:10].values))\n",
    "        \n",
    "X = np.array(X).reshape((len(X),5))\n",
    "Y = np.array(Y).reshape((len(Y),5))\n",
    "enc = OneHotEncoder(handle_unknown='ignore')\n",
    "X = enc.fit_transform(X)\n",
    "X"
   ]
  },
  {
   "cell_type": "code",
   "execution_count": 164,
   "metadata": {},
   "outputs": [
    {
     "data": {
      "text/plain": [
       "<4416x595 sparse matrix of type '<class 'numpy.float64'>'\n",
       "\twith 22080 stored elements in Compressed Sparse Row format>"
      ]
     },
     "execution_count": 164,
     "metadata": {},
     "output_type": "execute_result"
    }
   ],
   "source": [
    "X"
   ]
  },
  {
   "cell_type": "code",
   "execution_count": null,
   "metadata": {},
   "outputs": [],
   "source": []
  }
 ],
 "metadata": {
  "kernelspec": {
   "display_name": "deeplearn",
   "language": "python",
   "name": "deeplearn"
  },
  "language_info": {
   "codemirror_mode": {
    "name": "ipython",
    "version": 3
   },
   "file_extension": ".py",
   "mimetype": "text/x-python",
   "name": "python",
   "nbconvert_exporter": "python",
   "pygments_lexer": "ipython3",
   "version": "3.8.5"
  }
 },
 "nbformat": 4,
 "nbformat_minor": 4
}
